{
 "cells": [
  {
   "cell_type": "markdown",
   "metadata": {
    "canopy_exercise": {
     "cell_type": "<None>"
    }
   },
   "source": [
    "# <font color = '545AA7'> Calculating Entropy of a Compounds </font>\n",
    "\n",
    "This experiment is designed to make you familiar with the sources of entropy of a chemical sample. You will use the **Python programming language,** **Jupyter notebooks** and a number of scientific computing libraries such as  **NumPy**, **SciPy**, and **Matplotlib**.\n",
    "\n",
    "<img src=\"files/entropy curve.png\" style=\"width: 400px\">\n",
    "\n",
    "The goal of this lab is to calculate the entropy of *one mole of dihdrogen sulfide (H<sub>2</sub>S) at 298 K*. Recall that entropy is the sum of disorder from *heating* and *phase transition* contributions. Using the equations below, you will calculate the entropy from both heating phase changes using empirical C<sub>p</sub> and ΔH data stored in external data files.\n",
    "\n",
    " $$ ΔS_{trans} = \\frac{ΔH_{trans}}{T} $$\n",
    " \n",
    " $$ ΔS_{heating} = \\int^T_0\\frac{C_{p}}{T} dT $$\n",
    "\n",
    " $$ ΔS_{total} = ΔS_{trans} + ΔS_{heating} $$\n",
    " \n",
    "There is a small gap in the C<sub>p</sub> data at temperatures below 20 K because there are no experimental data at temperatures extremely close to absolute zero. We will estimate this using the Debye equation, $ C_{p} = aT^3 $, and add this as an estimated correction shown below.\n",
    "\n",
    "$$ ΔS_{total} = ΔS_{trans} + ΔS_{heating} + ΔS_{cold}  $$\n"
   ]
  },
  {
   "cell_type": "markdown",
   "metadata": {},
   "source": [
    "## <font color = 545AA7> 1. Import Libraries and Modules </font>\n",
    "\n",
    "Python has a number of libraries that contain useful tools. You can think of a library as an add-on or toolpack for Python. Before we can use a library, we must first activate it by importing it. Import matplotlib.pyplot, pandas, scipy.integrate, sympy, and numpy <U>by running the following cell</u>. Everything has been typed for you."
   ]
  },
  {
   "cell_type": "code",
   "execution_count": 2,
   "metadata": {},
   "outputs": [],
   "source": [
    "%matplotlib inline\n",
    "\n",
    "import matplotlib.pyplot as plt  # Python plotting library\n",
    "import pandas as pd #  Tools for array math\n",
    "import scipy.integrate   # Integration tool\n",
    "import numpy as np"
   ]
  },
  {
   "cell_type": "markdown",
   "metadata": {},
   "source": [
    "##  <font color = '#545AA7'> 2. Import Data </font>\n",
    "\n",
    "The data you need is contained in two text files titled **dHT_data.csv** and **CpT_data.csv**. Import them and assign them to variables names **phase_data** and **heat_data**, respectively. Take a look at the data so you know what you are dealing with. Use the Pandas csv importer below.\n",
    "\n",
    "    pd.read_csv('file_name', delimiter=',')\n",
    "    \n",
    "For example,\n",
    "\n",
    "    heat_data = pd.read_csv('CpT_data.csv', delimiter = ',')"
   ]
  },
  {
   "cell_type": "code",
   "execution_count": null,
   "metadata": {},
   "outputs": [],
   "source": []
  },
  {
   "cell_type": "code",
   "execution_count": null,
   "metadata": {},
   "outputs": [],
   "source": []
  },
  {
   "cell_type": "markdown",
   "metadata": {},
   "source": [
    "## <font color = '545AA7'> 3. Entropy Contribution from Phase Changes </font>\n",
    "\n",
    "Calculate the entropy from the four phase transitions based on the following equation and assign the sum of the values to the variable **S_trans**.\n",
    "\n",
    "$$ ΔS_{trans} = \\frac{ΔH_{trans}}{T} $$\n",
    "\n",
    "To access a column of data, place the column name in quotes in brackets behind the variable name. For example, the **T(K)** column in **phase_data** is: \n",
    "\n",
    "    phase_data['T(K)']\n",
    "\n",
    "Another useful tool is the **`np.sum()`** function that will calculate the sum of whatever you feed into it.\n",
    "\n",
    "    np.sum()"
   ]
  },
  {
   "cell_type": "code",
   "execution_count": null,
   "metadata": {
    "scrolled": true
   },
   "outputs": [],
   "source": []
  },
  {
   "cell_type": "code",
   "execution_count": null,
   "metadata": {
    "scrolled": true
   },
   "outputs": [],
   "source": []
  },
  {
   "cell_type": "markdown",
   "metadata": {},
   "source": [
    "## <font color = '545AA7'> 4. Entropy from Heating </font>\n",
    "\n",
    "Next, calculate the entropy contribution from heating using the equation below. We have heat capacity and temperature data in the **heat_data** variable. If we integrate the area under a plot of Cp/T vs T, we will get entropy from heating.  Follow the instructions in 4a and 4b.\n",
    "\n",
    "$$ ΔS_{heating} = \\int^{T_f}_{T_i}\\frac{C_{p}}{T} dT $$"
   ]
  },
  {
   "cell_type": "markdown",
   "metadata": {},
   "source": [
    "### <font color = '545AA7'> 4a. Plot of Cp/T vs T </font>\n",
    "\n",
    "First, plot the values of **Cp/T vs T** to visuallize what you are working with. You will want to save a copy of this plot to turn in with your lab report.\n",
    "\n",
    "Plot data using the following command where x and y are you independant and dependant variables, respectively. If you are curious, the `bo-` is just a plotting style that tells Python to plot a blue (b) plot with dots (o) and a solid line (-). A short plotting guide is in the data folder if you feel like experimenting.\n",
    "\n",
    "    plt.plot(x, y, 'bo-')\n",
    "    \n",
    "You can label the axes using additional commands in the same cell as the above plot command.\n",
    "\n",
    "    plt.title('plot title')\n",
    "    plt.xlabel('label')\n",
    "    plt.ylabel('label')\n",
    "    \n",
    "To save you plot to a file, use the following command.\n",
    "\n",
    "    plt.savefig('file_name.png', dpi = 300, format = 'png')"
   ]
  },
  {
   "cell_type": "code",
   "execution_count": null,
   "metadata": {},
   "outputs": [],
   "source": []
  },
  {
   "cell_type": "markdown",
   "metadata": {},
   "source": [
    "### <font color = '545AA7'> 4b. Integrate the Data Plotted Above </font>\n",
    "\n",
    "Finally, integrate the data by the Simpsons <u>or</u> trapadoidal functions from the **`scipy.integrate`** module. Store the value the variable **S_heating**. Integrate under the Cp/T vs T curve using <u>one</u> of the following two functions. The first employs Simpson's rule while the second opperates using the trapazoidal method. Choose whichever function you think might work the best. Watch the x and y values carefully!\n",
    "    \n",
    "\n",
    "    scipy.integrate.simps(y, x)\n",
    "    scipy.integrate.trapz(y, x)"
   ]
  },
  {
   "cell_type": "code",
   "execution_count": null,
   "metadata": {},
   "outputs": [],
   "source": []
  },
  {
   "cell_type": "markdown",
   "metadata": {},
   "source": [
    "## <font color = '545AA7'> 5. Lower Temperature Correction </font>\n",
    "\n",
    "Next, estimate the entropy from 0 K to the lowest temperature (20 K) data point using C<sub>p</sub> = aT<sup>3</sup> and the equation below and store the value in the variable **S_cold**. The coefficient **a** will be estimated from the Cp and T data for the lowest temperature data point. Follow the instructions in steps 5a and 5b.\n",
    "\n",
    "$$ ΔS_{cold} = \\int^{20}_0\\frac{C_{p}}{T} dT $$\n",
    "\n",
    "$$ \\Rightarrow ΔS_{cold} = \\int^{20}_0aT^2 dT $$"
   ]
  },
  {
   "cell_type": "markdown",
   "metadata": {},
   "source": [
    "### <font color = '545AA7'> 5a. Calculate Debye Coefficient </font>\n",
    "\n",
    "Calculate the coefficient **a** for the Debye equation (below) using the Cp and T data point for the <u>lowest temperature you have data for</u>.\n",
    "\n",
    "$$ C_p = aT^3 $$"
   ]
  },
  {
   "cell_type": "code",
   "execution_count": null,
   "metadata": {},
   "outputs": [],
   "source": []
  },
  {
   "cell_type": "markdown",
   "metadata": {},
   "source": [
    "### <font color = '545AA7'> 5b. Calculate Entropy From Debye Equation </font>\n",
    "\n",
    "Calculate the entropy from absolute zero to the lowest temperature data point (20 K) by integrating using the following equation. The example below demonstrates by integrating the equation $2x^3$ with respect to $T$ from 0 to 100.\n",
    "\n",
    "    scipy.integrate.quad(lambda x: 2*x**3, 0, 100)[0]\n",
    "    \n",
    "Assign your value to the variable **S_cold**."
   ]
  },
  {
   "cell_type": "code",
   "execution_count": null,
   "metadata": {},
   "outputs": [],
   "source": []
  },
  {
   "cell_type": "markdown",
   "metadata": {},
   "source": [
    "## <font color = '545AA7'> 6. Total Sources of Entropy </font>\n",
    "\n",
    "Now calculate the sum of the entropy from the three calculations above and assign the total to the variable **S_total**.\n",
    "\n",
    "$$ ΔS_{total} = ΔS_{trans} + ΔS_{heating} + ΔS_{cold}  $$"
   ]
  },
  {
   "cell_type": "code",
   "execution_count": null,
   "metadata": {},
   "outputs": [],
   "source": []
  },
  {
   "cell_type": "markdown",
   "metadata": {},
   "source": [
    "### <font color = 545AA7> Calculate Error </font>\n",
    "\n",
    "Look up the accepted value for S<sub>H<sub>2</sub>S</sub> at 298 in the **Appendix II of Tro** (there is a copy in the QSC, Hays 310). Calculate the <u>absolute error</u> in your calculation. If it's greater than a couple J/K, see the instructor."
   ]
  },
  {
   "cell_type": "code",
   "execution_count": null,
   "metadata": {},
   "outputs": [],
   "source": []
  },
  {
   "cell_type": "markdown",
   "metadata": {},
   "source": [
    "## <font color = '545AA7'> 7. For Your Report... </font>\n",
    "\n",
    "Don't forget to include the following items in your lab report. You do not need to include the Jupyter notebook in your report. There are also some questions in your lab manual. Only one report per group is neccesary this week.\n",
    "\n",
    "1. Total entropy in 1 mole of H<sub>2</sub>S at 298 K\n",
    "2. Entropy contributions from the phase transitions, heating, and the low temperature correction\n",
    "3. Plot of Cp/T vs T (if you used the `plt.savefig()` function, you should have this)\n",
    "4. Calculate the entropy from heating using the paper weighing method and use that to calculate the total entropy in 1 mole of H<sub>2</sub>S at 298 K\n",
    "5. Complete any questions in the manual <u>and</u> part D of the lab"
   ]
  },
  {
   "cell_type": "code",
   "execution_count": null,
   "metadata": {
    "collapsed": true,
    "jupyter": {
     "outputs_hidden": true
    }
   },
   "outputs": [],
   "source": []
  }
 ],
 "metadata": {
  "anaconda-cloud": {},
  "celltoolbar": "Exercise",
  "kernelspec": {
   "display_name": "Python 3",
   "language": "python",
   "name": "python3"
  },
  "language_info": {
   "codemirror_mode": {
    "name": "ipython",
    "version": 3
   },
   "file_extension": ".py",
   "mimetype": "text/x-python",
   "name": "python",
   "nbconvert_exporter": "python",
   "pygments_lexer": "ipython3",
   "version": "3.8.5"
  }
 },
 "nbformat": 4,
 "nbformat_minor": 4
}
