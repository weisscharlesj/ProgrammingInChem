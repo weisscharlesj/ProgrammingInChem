{
 "cells": [
  {
   "cell_type": "markdown",
   "metadata": {},
   "source": [
    "# Simulating Radioactive Decay without Dice"
   ]
  },
  {
   "cell_type": "markdown",
   "metadata": {},
   "source": [
    "This document is known as a **Jupyter notebook**. It is a popular document used in scientific research to hold/run live computer code and display explainatory text. Each cell below can be run by selecting the cell and pressing the **Run** button at the top or by selecting **Cell** $\\rightarrow$ **Run Selected Cells**.\n",
    "\n",
    "`In[*]` means the cell is currently running. When it is finished, a number will appear in place of the asterisk and any output will appear below the cell."
   ]
  },
  {
   "cell_type": "markdown",
   "metadata": {},
   "source": [
    "## Imports\n",
    "\n",
    "Run the following cell to import the neccesary Python libraries. You can think of a library like a toolpack or add-on, and importing libraries activates them."
   ]
  },
  {
   "cell_type": "code",
   "execution_count": 1,
   "metadata": {},
   "outputs": [],
   "source": [
    "# imports cell used to \"turn on\" various add-ons\n",
    "import numpy as np\n",
    "import matplotlib.pyplot as plt\n",
    "%matplotlib inline"
   ]
  },
  {
   "cell_type": "markdown",
   "metadata": {},
   "source": [
    "## Simulate Dice\n",
    "\n",
    "The following code simulates the rolling of dice of a given number of sides. Run the following cell to see the resulting numbers. Feel free to go back and change the number of dice or number of sides on the dice. "
   ]
  },
  {
   "cell_type": "code",
   "execution_count": 11,
   "metadata": {},
   "outputs": [
    {
     "data": {
      "text/plain": [
       "array([3, 1, 2, 1, 3, 2, 2, 5, 1, 2, 5, 3, 4, 2, 3, 5, 1, 3, 4, 4, 5, 5,\n",
       "       6, 6, 5, 5, 3, 4, 2, 2, 2, 3, 1, 2, 4, 1, 2, 1, 1, 1, 1, 2, 3, 4,\n",
       "       5, 6, 2, 2, 5, 6, 3, 5, 1, 3, 6, 1, 3, 4, 4, 4, 4, 2, 3, 4, 5, 1,\n",
       "       2, 2, 2, 2, 1, 3, 5, 6, 3, 4, 6, 4, 2, 1, 1, 6, 1, 3, 6, 6, 4, 4,\n",
       "       2, 2, 3, 1, 6, 3, 2, 2, 2, 3, 2, 3])"
      ]
     },
     "execution_count": 11,
     "metadata": {},
     "output_type": "execute_result"
    }
   ],
   "source": [
    "number_of_sides = 6\n",
    "number_of_dice = 100\n",
    "\n",
    "dice = np.random.randint(1, high=number_of_sides + 1, size=number_of_dice)\n",
    "dice"
   ]
  },
  {
   "cell_type": "markdown",
   "metadata": {},
   "source": [
    "### Plot the Dice\n",
    "\n",
    "Before continuing, be sure the above code is reset for 100 six-sided dice.\n",
    "\n",
    "How are the values of the above simulated dice rolls distributed? Is there a value that is more common then others? The answers may not be obvious by just looking at the numbers because the human mind doesn't process this type of data particularily well. However, if you plot it, it is a lot easier to make sense of.\n",
    "\n",
    "You will use a **histogram** plot. This is a frequency plot; it tells you how many times each value occurs. Run the cell below and see if the distribution is obvious now."
   ]
  },
  {
   "cell_type": "code",
   "execution_count": 12,
   "metadata": {},
   "outputs": [
    {
     "data": {
      "text/plain": [
       "Text(0, 0.5, 'Number of Dice')"
      ]
     },
     "execution_count": 12,
     "metadata": {},
     "output_type": "execute_result"
    },
    {
     "data": {
      "image/png": "[encoded data removed]",
      "text/plain": [
       "<Figure size 432x288 with 1 Axes>"
      ]
     },
     "metadata": {
      "needs_background": "light"
     },
     "output_type": "display_data"
    }
   ],
   "source": [
    "plt.hist(dice, bins=np.arange(1, 8)-0.5, edgecolor='k')\n",
    "plt.xlabel('Dice Values')\n",
    "plt.ylabel('Number of Dice')"
   ]
  },
  {
   "cell_type": "markdown",
   "metadata": {},
   "source": [
    "Re-run the above cells with a **thousand** six-sided dice and see what the distribution looks like. Think about why the distribution has changed. You don't need to include the answer in your lab notebook, but this concept will be important in answering the post-lab questions provided in you lab manual."
   ]
  },
  {
   "cell_type": "markdown",
   "metadata": {},
   "source": [
    "## Simulate Radioactive Decay\n",
    "\n",
    "Now you will simulate the radioactive decay of nuclei using simulated dice just like you did with real dice. Set the total number of dice using the `total_dice` variable at the top. Run this simulation with 30, 100, and 10<sup>5</sup> dice. The orange line is the theoretical model based on first-order kinetics.\n",
    "\n",
    "The code below will automatically save your plot on your Desktop."
   ]
  },
  {
   "cell_type": "code",
   "execution_count": 19,
   "metadata": {},
   "outputs": [],
   "source": [
    "total_dice = 10000"
   ]
  },
  {
   "cell_type": "code",
   "execution_count": 20,
   "metadata": {},
   "outputs": [],
   "source": [
    "num_dice = total_dice\n",
    "\n",
    "record = []\n",
    "\n",
    "while num_dice > 0:\n",
    "    record.append(num_dice)\n",
    "    roll = np.random.randint(0, high=6, size=num_dice)\n",
    "    num_dice -= np.bincount(roll, minlength=6)[0]"
   ]
  },
  {
   "cell_type": "code",
   "execution_count": 21,
   "metadata": {},
   "outputs": [
    {
     "data": {
      "text/plain": [
       "<matplotlib.legend.Legend at 0x7f881429d610>"
      ]
     },
     "execution_count": 21,
     "metadata": {},
     "output_type": "execute_result"
    },
    {
     "data": {
      "image/png": "[encoded data removed]",
      "text/plain": [
       "<Figure size 432x288 with 1 Axes>"
      ]
     },
     "metadata": {
      "needs_background": "light"
     },
     "output_type": "display_data"
    }
   ],
   "source": [
    "plt.plot(record, 'o', label='Simulation')\n",
    "\n",
    "# plot of theoretical rate law\n",
    "x = np.linspace(0,len(record),100)\n",
    "plt.plot(x-0.5, total_dice*np.exp(-1/6 * x), label='Theoretical')\n",
    "\n",
    "plt.title('Simulation with ' + str(total_dice) + ' Dice')\n",
    "plt.xlabel('Number of Rolls')\n",
    "plt.ylabel('Dice Remaining')\n",
    "plt.legend()\n",
    "\n",
    "#plt.savefig('Simulation'+ str(total_dice) +'.png', dpi=300, format='PNG') "
   ]
  },
  {
   "cell_type": "code",
   "execution_count": null,
   "metadata": {},
   "outputs": [],
   "source": []
  }
 ],
 "metadata": {
  "kernelspec": {
   "display_name": "Python 3",
   "language": "python",
   "name": "python3"
  },
  "language_info": {
   "codemirror_mode": {
    "name": "ipython",
    "version": 3
   },
   "file_extension": ".py",
   "mimetype": "text/x-python",
   "name": "python",
   "nbconvert_exporter": "python",
   "pygments_lexer": "ipython3",
   "version": "3.8.5"
  }
 },
 "nbformat": 4,
 "nbformat_minor": 4
}
