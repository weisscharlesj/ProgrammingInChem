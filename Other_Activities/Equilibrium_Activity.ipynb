{
 "cells": [
  {
   "cell_type": "markdown",
   "metadata": {},
   "source": [
    "# Equilibrium Simulation\n",
    "\n",
    "In this simulation, two students (A and B) have a supply of M&Ms and will take turns sharing their M&Ms with each other based on the following rules. \n",
    "* Student A always shares 6% of his/her M&Ms with student B\n",
    "* Student B always shares 12% of his/her M&Ms with student A\n",
    "\n",
    "The following code simulates and visuallizes this process. The first cell gives each student a random starting supply of M&Ms from 400 to 2000. The final cell calculates the ratio of M&Ms between student A and student B. Rerun this code multiple times to see the simulation run with different starting M&M supplies to see how this affects the final ratio of M&Ms between the two students."
   ]
  },
  {
   "cell_type": "code",
   "execution_count": 49,
   "metadata": {},
   "outputs": [],
   "source": [
    "import random\n",
    "from math import floor\n",
    "import matplotlib.pyplot as plt\n",
    "%matplotlib inline"
   ]
  },
  {
   "cell_type": "code",
   "execution_count": 50,
   "metadata": {},
   "outputs": [],
   "source": [
    "# Randomly generate the initial number of M&Ms held by student A and student B\n",
    "low, high = 400, 2000\n",
    "\n",
    "A = random.randint(low, high)\n",
    "B = random.randint(low, high)"
   ]
  },
  {
   "cell_type": "code",
   "execution_count": 51,
   "metadata": {},
   "outputs": [
    {
     "data": {
      "text/plain": [
       "(699, 1860)"
      ]
     },
     "execution_count": 51,
     "metadata": {},
     "output_type": "execute_result"
    }
   ],
   "source": [
    "A, B"
   ]
  },
  {
   "cell_type": "markdown",
   "metadata": {},
   "source": [
    "## Simulation\n",
    "\n",
    "In the following simulation, a `for` loop is used to iteratively simulate each turn of sharing. Each loop includes both students sharing. Only whole M&Ms are shared in this simulation."
   ]
  },
  {
   "cell_type": "code",
   "execution_count": 52,
   "metadata": {},
   "outputs": [],
   "source": [
    "# Number of M&Ms each student holds turing each turn. Populated with initial number and will append to these lists\n",
    "# during each turn\n",
    "A_t = [A]\n",
    "B_t = [B]\n",
    "\n",
    "turns = 100\n",
    "\n",
    "# Each loop is one cycle of sharing\n",
    "for t in range(turns):\n",
    "    # calculate how much each student shares during this turn\n",
    "    A_share = floor(0.06 * A) # calculate 6% of whole M&Ms\n",
    "    B_share = floor(0.12 * B) # calculate 12% of whole M&Ms\n",
    "   \n",
    "    # add the 6% to student B and remove them from student A's supply\n",
    "    B += A_share\n",
    "    A -= A_share\n",
    "    \n",
    "    # add 12% to student A and remove them from student B's supply\n",
    "    A += B_share\n",
    "    B -= B_share\n",
    "    \n",
    "    # record the  current supply of each student's M&M's during after the above exchange has taken place\n",
    "    A_t.append(A)\n",
    "    B_t.append(B)"
   ]
  },
  {
   "cell_type": "code",
   "execution_count": 53,
   "metadata": {},
   "outputs": [
    {
     "data": {
      "text/plain": [
       "<matplotlib.legend.Legend at 0x7fc21acbf100>"
      ]
     },
     "execution_count": 53,
     "metadata": {},
     "output_type": "execute_result"
    },
    {
     "data": {
      "image/png": "[encoded data removed]",
      "text/plain": [
       "<Figure size 432x288 with 1 Axes>"
      ]
     },
     "metadata": {
      "needs_background": "light"
     },
     "output_type": "display_data"
    }
   ],
   "source": [
    "plt.plot(range(turns + 1), A_t, label = 'Student A')\n",
    "plt.plot(range(turns + 1), B_t, label = 'Student B')\n",
    "plt.xlabel('Turns')\n",
    "plt.ylabel('M&Ms Each Student Holds')\n",
    "plt.legend()"
   ]
  },
  {
   "cell_type": "markdown",
   "metadata": {},
   "source": [
    "## Calculate Ratio\n",
    "\n",
    "Calculate the ratio of M&Ms held by student A versus student B. Regardless of the number of M&Ms each student starts with, student A always ends with approximately double the M&Ms as student B."
   ]
  },
  {
   "cell_type": "code",
   "execution_count": 54,
   "metadata": {},
   "outputs": [
    {
     "data": {
      "text/plain": [
       "1.9825174825174825"
      ]
     },
     "execution_count": 54,
     "metadata": {},
     "output_type": "execute_result"
    }
   ],
   "source": [
    "A_t[-1]/B_t[-1]"
   ]
  },
  {
   "cell_type": "code",
   "execution_count": null,
   "metadata": {},
   "outputs": [],
   "source": []
  }
 ],
 "metadata": {
  "kernelspec": {
   "display_name": "Python 3",
   "language": "python",
   "name": "python3"
  },
  "language_info": {
   "codemirror_mode": {
    "name": "ipython",
    "version": 3
   },
   "file_extension": ".py",
   "mimetype": "text/x-python",
   "name": "python",
   "nbconvert_exporter": "python",
   "pygments_lexer": "ipython3",
   "version": "3.8.5"
  }
 },
 "nbformat": 4,
 "nbformat_minor": 4
}
