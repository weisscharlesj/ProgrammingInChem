{
 "cells": [
  {
   "cell_type": "markdown",
   "metadata": {},
   "source": [
    "\n",
    "# CHEM 301: Plotting and nonlinear curve fitting using Python\n",
    "# Part 1: Using Arrays\n",
    "\n",
    "Python is a power scripting language that is well-supported by many \n",
    "in the scientific community.  By using python for this lab, you will be \n",
    "introduced to reading in data files, plotting data, and fitting functions\n",
    "and/or models to data sets. Of course the real fun comes with interpreting\n",
    "the results of fitting models to your data.  \n",
    "\n",
    "Below are a few examples to get you started with these tasks.\n",
    "\n",
    "Python can be used as a scripting language or as an interpreter on a command\n",
    "line.  Here, the examples given are short scripts.  You need to \"run\" the\n",
    "scripts/cells in order to execute them.  Note that block comments (portions \n",
    "of text that are not executed in a script) are started with a hashtag.\n",
    "\n",
    "First, we need to import libraries with functions that we will use.  These functions allow you to do things such as take the square root of a number, create plots, and fit curves.  You import libraries using the 'import' command. To execute the cell, push SHIFT + ENTER simultaneously."
   ]
  },
  {
   "cell_type": "code",
   "execution_count": 2,
   "metadata": {},
   "outputs": [],
   "source": [
    "# libraries to import \n",
    "\n",
    "import matplotlib.pyplot as plt\n",
    "import numpy as np\n",
    "from scipy.optimize import curve_fit"
   ]
  },
  {
   "cell_type": "markdown",
   "metadata": {},
   "source": [
    "There are examples to get you started:\n",
    "\n",
    "1) Defining and plotting a data set\n",
    "\n",
    "2) Reading in data from a file\n",
    "\n",
    "3) Fitting a model to a set of data\n",
    "\n",
    "Part 1) is described in this file.  The other two parts are in separate notebook files."
   ]
  },
  {
   "cell_type": "markdown",
   "metadata": {},
   "source": [
    "## Example 1: Defining and plotting a data set\n",
    "\n",
    "Comment out lines of code that you don't want to execute in order to \n",
    "understand what is happening.\n",
    "\n",
    "Define data arrays, say x values and y values using np.array() and squre brackets.  \n",
    "The 'argument' you pass into the function (in this case np.array) is the values of the array in bracketed form."
   ]
  },
  {
   "cell_type": "code",
   "execution_count": 3,
   "metadata": {},
   "outputs": [
    {
     "name": "stdout",
     "output_type": "stream",
     "text": [
      "[1 2 3 4 5]\n",
      "[ 1  4  9 16 25]\n"
     ]
    }
   ],
   "source": [
    "Xvals = np.array([1,2,3,4,5])\n",
    "Yvals = np.array([1,4,9,16,25])\n",
    "\n",
    "# We can then print the arrays to the screen:\n",
    "print(Xvals)\n",
    "print(Yvals)"
   ]
  },
  {
   "cell_type": "markdown",
   "metadata": {},
   "source": [
    "Plot your data by using \"plt.plot(X,Y)\" - This connects the points additional arguments inside () are used to customize the plot.\n",
    "\n",
    "Note: this notebook will \"remember\" variables used in previous cells.  So, here you need to have executed the cell where Xvals and Yvals were defined (directly above this cell)\n",
    "\n",
    "plt.plot -> \"connect the dots\"\n",
    "\n",
    "plt.scatter -> scatter plot"
   ]
  },
  {
   "cell_type": "code",
   "execution_count": 5,
   "metadata": {},
   "outputs": [
    {
     "data": {
      "image/png": "[encoded data removed]",
      "text/plain": [
       "<Figure size 432x288 with 1 Axes>"
      ]
     },
     "metadata": {
      "needs_background": "light"
     },
     "output_type": "display_data"
    }
   ],
   "source": [
    "plt.plot(Xvals,Yvals, color='red')\n",
    "plt.scatter(Xvals,Yvals, color='blue')\n",
    "plt.show()"
   ]
  },
  {
   "cell_type": "markdown",
   "metadata": {},
   "source": [
    "Define Y values using a function, and print the result. Note that you can perform the same operation to all the items in the array at once!\n",
    "\n",
    "To raise numbers to exponents, use ** instead of ^.  Below is a statement that will square the values of Xvals."
   ]
  },
  {
   "cell_type": "code",
   "execution_count": 6,
   "metadata": {},
   "outputs": [
    {
     "name": "stdout",
     "output_type": "stream",
     "text": [
      "Value of Yvals2\n",
      "[ 1  4  9 16 25]\n"
     ]
    }
   ],
   "source": [
    "Yvals2 = Xvals**2\n",
    "print(\"Value of Yvals2\")\n",
    "print(Yvals2)"
   ]
  },
  {
   "cell_type": "markdown",
   "metadata": {},
   "source": [
    "We can define 2-Dimentional array with X and Y in seperate columns.\n",
    "\n",
    "Note how you make a 2-dimenstional array."
   ]
  },
  {
   "cell_type": "code",
   "execution_count": 8,
   "metadata": {},
   "outputs": [
    {
     "name": "stdout",
     "output_type": "stream",
     "text": [
      "2D array with columns\n",
      "[[ 1  2]\n",
      " [ 2  5]\n",
      " [ 3 10]\n",
      " [ 4 17]\n",
      " [ 5 26]]\n",
      "2D array with rows\n",
      "[[ 1  2  3  4  5]\n",
      " [ 3  6 11 18 27]]\n"
     ]
    }
   ],
   "source": [
    "\n",
    "XY2Dcols = np.array([[1,2],[2,5],[3,10],[4,17],[5,26]])\n",
    "\n",
    "XY2Drows = np.array([[1,2,3,4,5],[3,6,11,18,27]])\n",
    "print(\"2D array with columns\")\n",
    "print(XY2Dcols)\n",
    "print(\"2D array with rows\")\n",
    "print(XY2Drows)"
   ]
  },
  {
   "cell_type": "markdown",
   "metadata": {},
   "source": [
    "Item in column 'i' and row 'j' is called by XY[i,j]\n",
    "\n",
    "Call entire column 'i' in a 2D array by XY2D[:,i], and row 'j' by XY2D[j,:]\n",
    "\n",
    "This is called \"slicing the array\"\n",
    "\n",
    "Therefore, the first line line to plot column 0 (X) vs column 1 (Y):\n",
    "\n",
    "Tghe second line following line to plot row 0 (X) vs row 1 (Y)"
   ]
  },
  {
   "cell_type": "code",
   "execution_count": null,
   "metadata": {},
   "outputs": [],
   "source": [
    "plt.scatter(XY2Dcols[:,0],XY2Dcols[:,1],color='green')\n",
    "plt.scatter(XY2Drows[0,:], XY2Drows[1,:],color='black')\n",
    "\n",
    "# We usually want to label our plots.  Here are some simple commands to get you started,\n",
    "plt.xlabel(\"X-axis label\")\n",
    "plt.ylabel(\"Y-axis label\")\n",
    "plt.title(\"Title of Plot\")"
   ]
  },
  {
   "cell_type": "raw",
   "metadata": {},
   "source": []
  }
 ],
 "metadata": {
  "kernelspec": {
   "display_name": "Python 3",
   "language": "python",
   "name": "python3"
  },
  "language_info": {
   "codemirror_mode": {
    "name": "ipython",
    "version": 3
   },
   "file_extension": ".py",
   "mimetype": "text/x-python",
   "name": "python",
   "nbconvert_exporter": "python",
   "pygments_lexer": "ipython3",
   "version": "3.8.3"
  }
 },
 "nbformat": 4,
 "nbformat_minor": 4
}
